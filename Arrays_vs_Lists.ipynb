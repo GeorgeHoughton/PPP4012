{
  "nbformat": 4,
  "nbformat_minor": 0,
  "metadata": {
    "colab": {
      "private_outputs": true,
      "provenance": [],
      "authorship_tag": "ABX9TyOhZn1uT33VgZFfO6ZmlQ5w",
      "include_colab_link": true
    },
    "kernelspec": {
      "name": "python3",
      "display_name": "Python 3"
    },
    "language_info": {
      "name": "python"
    }
  },
  "cells": [
    {
      "cell_type": "markdown",
      "metadata": {
        "id": "view-in-github",
        "colab_type": "text"
      },
      "source": [
        "<a href=\"https://colab.research.google.com/github/GeorgeHoughton/PPP4012/blob/main/Arrays_vs_Lists.ipynb\" target=\"_parent\"><img src=\"https://colab.research.google.com/assets/colab-badge.svg\" alt=\"Open In Colab\"/></a>"
      ]
    },
    {
      "cell_type": "markdown",
      "source": [
        "#<center> PPP-4012: Python coding notebooks.\n",
        "#<center> Introduction to NumPy arrays for data analysis.\n",
        "\n",
        "\n",
        "\n",
        "---\n",
        "\n",
        "\n",
        "\n",
        "##Aims:\n",
        "The aim of this notebook is to illustrate the advantages of numerical arrays (Numpy arrays) for data analysis. In particular, we illustrate (i) the summing, subtracting and multiplying of arrays with each other, and (ii) the \"element-wise\" application of an operation (or function) to an array, where every element of the array is subjected to the operation. These features reduce the need for explicit for loops in code.\n",
        "\n",
        "\n",
        "---\n",
        "\n",
        "\n",
        "\n",
        "## Arrays vs lists\n",
        "\n",
        "We'll first look at some differences between how lists and arrays behave.  Create some data in list, and then make a copy as an array."
      ],
      "metadata": {
        "id": "FH0S4vOwODSY"
      }
    },
    {
      "cell_type": "markdown",
      "source": [],
      "metadata": {
        "id": "oAb9l56Xj_of"
      }
    },
    {
      "cell_type": "code",
      "source": [
        "import numpy as np #Arrays belong to  numpy\n",
        "\n",
        "#first make a list of data\n",
        "l1 = [20, 30, 35, 40, 50, 45, 38, 25, 10]\n",
        "\n",
        "#copy it to a numpy array\n",
        "a1 = np.array(l1)\n",
        "\n",
        "#show the two\n",
        "print(\"List =\", l1)\n",
        "print(\"Array =\",a1)"
      ],
      "metadata": {
        "id": "UpggR3vYQXzx"
      },
      "execution_count": null,
      "outputs": []
    },
    {
      "cell_type": "markdown",
      "source": [
        "Apart from the commas in the list, they look pretty much identical. But, look at what happens when we try to multiply the data by 2:"
      ],
      "metadata": {
        "id": "0HRC3NbBSXEG"
      }
    },
    {
      "cell_type": "code",
      "source": [
        "#multiply the list by 2\n",
        "print(\"List =\", l1)\n",
        "print('Multiply the list by 2')\n",
        "print(l1 * 2)\n",
        "\n",
        "print(\"\\nArray =\",a1)\n",
        "print('Multiply the array by 2')\n",
        "#multiply the array by 2\n",
        "print(a1 * 2)"
      ],
      "metadata": {
        "id": "IjP5u1JGTm_G"
      },
      "execution_count": null,
      "outputs": []
    },
    {
      "cell_type": "markdown",
      "source": [
        "As you can see, the results are very different. Multiplying the list has   duplicated the contents of the original list. In contrast, multiplying the array has **multiplied every element in it by 2**.\n",
        "\n",
        "The way the array behaves is much more useful for modelling and data analysis, and is not limited to multiplication. We can similarly add or subtract a value to all the elements in an array. For instance, to \"center\" data, the mean of the data is subtracted from every datapoint. Here is an example (see also **Example 1** (z-scores) below):"
      ],
      "metadata": {
        "id": "L__oFFS7UJqL"
      }
    },
    {
      "cell_type": "code",
      "source": [
        "data = np.array([20, 30, 34, 40, 50, 45, 39, 42, 31])  #create some data\n",
        "center = data - np.mean(data)  #center the data by subtracting the mean from all elements\n",
        "\n",
        "print('Raw data =', data)\n",
        "print('Mean of the data =', np.mean(data))\n",
        "print('Centered data =', center)"
      ],
      "metadata": {
        "id": "Wt4nAoUCGqj0"
      },
      "execution_count": null,
      "outputs": []
    },
    {
      "cell_type": "markdown",
      "source": [
        "\n",
        "\n",
        "\n",
        "Let's try another example, this time adding two lists or arrays together."
      ],
      "metadata": {
        "id": "HVtm1pRiGnb4"
      }
    },
    {
      "cell_type": "code",
      "source": [
        "\n",
        "#make two new lists of equal length\n",
        "l2 = [10, 20, 30 , 40]\n",
        "l3 = [15, 25, 35, 45]\n",
        "\n",
        "#make arrays from the lists\n",
        "a2, a3 = np.array(l2), np.array(l3)\n",
        "\n",
        "print('Add the two lists')\n",
        "print(l2 + l3)\n",
        "\n",
        "print('Add the two arrays')\n",
        "print(a2 + a3)"
      ],
      "metadata": {
        "id": "zSMiSJTgVoxm"
      },
      "execution_count": null,
      "outputs": []
    },
    {
      "cell_type": "markdown",
      "source": [
        "Again, the difference in the results is clear. The data in the lists has been \"joined together\", wheareas for the arrays corresponding data points have been added together (that is, the first element of a1 has been added to the first element of a2 and so on).  \n",
        "\n",
        "#Advantages of arrays\n",
        "\n",
        "We can do many more useful things with arrays, things that in most cases will simply produce an error if we try to do the same with lists. For instance, instead of multiplying the array by a number, let's try dividing it."
      ],
      "metadata": {
        "id": "ONS62p24WUBU"
      }
    },
    {
      "cell_type": "markdown",
      "source": [],
      "metadata": {
        "id": "d0KMOx3yamtr"
      }
    },
    {
      "cell_type": "code",
      "source": [
        "print('Dividing arrays by 2')\n",
        "print('\\na2 =', a2)\n",
        "print('a2/2 =', a2/2)\n",
        "print('\\na3 =', a3)\n",
        "print('a3/2 =', a3/2)"
      ],
      "metadata": {
        "id": "jtn3na2wXyw-"
      },
      "execution_count": null,
      "outputs": []
    },
    {
      "cell_type": "markdown",
      "source": [
        "Trying to do this with a list will simply produce an error: Try it your self!"
      ],
      "metadata": {
        "id": "PTviYF_qaoZi"
      }
    },
    {
      "cell_type": "code",
      "source": [
        "#try to divide any of the lists l1, l2 etc by a number"
      ],
      "metadata": {
        "id": "5RytOyU7azZc"
      },
      "execution_count": null,
      "outputs": []
    },
    {
      "cell_type": "markdown",
      "source": [
        "Similarly, arrays can not only be added element-wise as above, they can subtracted, multiplied or divided, using the the usual arithmetic signs. For example, subtraction:"
      ],
      "metadata": {
        "id": "CnrEm5wdbIti"
      }
    },
    {
      "cell_type": "code",
      "source": [
        "#'Subtract one array from another'\n",
        "print('Subtract a2 from a3')\n",
        "print('a3 - a2 =', a3 - a2)\n"
      ],
      "metadata": {
        "id": "Rv5Rq0jkbhCe"
      },
      "execution_count": null,
      "outputs": []
    },
    {
      "cell_type": "markdown",
      "source": [
        "Try it yourself! In the following code window, try to\n",
        "(i) multiply a2 by a3 (using *)\n",
        "(ii) divide a2 by a3 (using /)"
      ],
      "metadata": {
        "id": "z5JSEuMFcGKY"
      }
    },
    {
      "cell_type": "code",
      "source": [
        "#(i) Multiply a2 by a3\n",
        "\n",
        "#(ii) divide a2 by a3"
      ],
      "metadata": {
        "id": "5PNSpAfTccdI"
      },
      "execution_count": null,
      "outputs": []
    },
    {
      "cell_type": "markdown",
      "source": [
        "# Elementwise application of operations to arrays\n",
        "\n",
        "Operations (functions) such as squaring, x\\*\\*2  , or taking the square root, np.sqrt(x), apply  to a single number, or \"input variable\", $x$, and produce a single number as output.\n",
        "Suppose however, we want to square all the numbers in a set of data. With a list, we would need to use a *for* loop, applying the squaring operation to every number in turn.\n",
        "\n",
        "  However, with NumPy, operations such as squaring can be applied to an *array*, with the result that the operation **acts on every element in the array**, producing a new array as output. To do this on data in a Python list would require a *for* loop.   \n",
        "\n",
        "Here are a few examples:"
      ],
      "metadata": {
        "id": "iAfCB96LdB0C"
      }
    },
    {
      "cell_type": "code",
      "source": [
        "# Elementwise application of functions\n",
        "print('a2 = ', a2)\n",
        "\n",
        "print('\\n 1. Square every element of a2: a2 ** 2')\n",
        "print(a2 ** 2)  # a2 ** 2\n",
        "\n",
        "print('\\n 2. Take log of  every element of a2: np.log(a2)')\n",
        "print(np.log(a2))  # log(a2)\n",
        "\n",
        "print('\\n 3. Reciprocal of  every element of a2: 1/a2')\n",
        "print(1/a2)  # 1/a2"
      ],
      "metadata": {
        "id": "iSQbqbJfcgpm"
      },
      "execution_count": null,
      "outputs": []
    },
    {
      "cell_type": "markdown",
      "source": [
        "Try it yourself:\n",
        "\n",
        "Using these methods, create an array of data of your own and apply the following operations to all the elements in the array (no for-loops allowed!):\n",
        "\n",
        "(i) Get the cube (raise to the power 3) of every element in your data.\n",
        "\n",
        "(ii) Get the square root of every element.\n",
        "\n",
        "(iii) (Harder) Get 1/(x**2) of every element x in the data (ie the reciprocal of the square. This combines 2 operations)."
      ],
      "metadata": {
        "id": "Vb4oFoG-gooP"
      }
    },
    {
      "cell_type": "code",
      "source": [
        "#(i) Cube\n",
        "\n",
        "#(ii) Square root\n",
        "\n",
        "#(iiI) 1/(x**2)\n",
        "\n"
      ],
      "metadata": {
        "id": "5dBiofABi8wh"
      },
      "execution_count": null,
      "outputs": []
    },
    {
      "cell_type": "markdown",
      "source": [
        "##Example 1: Standardising data (the z-score)\n",
        "\n",
        "Standardised, or z-score, data is created  by subtracting the mean of the data from all the data points (called centering), and then dividing the centered data by the standard deviation. Whatever form the original data took, after conversion to the z-score, it will have mean of 0, values that were originally below the mean will be negative, those above positive, and the values will be in units of the standard deviation. For instance, a z-score of 0.5 means that the original data point was 0.5 standard deviations above the mean.\n",
        "\n",
        "Below, we show how easily this can be computed using  \"vectorised\" operations as described above:"
      ],
      "metadata": {
        "id": "WwUbgXo1siU6"
      }
    },
    {
      "cell_type": "code",
      "source": [
        "import matplotlib.pyplot as plt  #for plotting results\n",
        "\n",
        "#Raw data is a set of MCQ scores\n",
        "MCQdata = np.array([59, 70, 75, 25, 50, 50, 80, 68, 64, 61, 57, 95.45, 55, 50, 50, 73, 34.09,\n",
        "59, 82, 93, 65.91, 73, 77, 50, 48, 39, 57, 34, 27, 77, 63.64, 39, 57, 95, 77.27])\n",
        "\n",
        "#use numpy to get mean and stan dev of MCQ data\n",
        "MCQmean = np.mean(MCQdata)\n",
        "MCQstd = np.std(MCQdata, ddof = 1) #use sample stand. dev.\n",
        "\n",
        "#center the data, i.e., subtract the mean from every data point\n",
        "centered = MCQdata - MCQmean\n",
        "\n",
        "#z-score: divide centered data by the standard deviation\n",
        "zed = centered/MCQstd\n",
        "\n",
        "#Define a function to return the z-scored data\n",
        "def zscore(data):\n",
        "  \"\"\" z-transform of data in one line \"\"\"\n",
        "  return (data - np.mean(data))/np.std(data)\n",
        "\n",
        "#------------ THE END: Rest is plotting ---------\n",
        "\n",
        "#plot the z-scored data\n",
        "plt.bar(range(1, len(zed)+1), zed) #bar plot\n",
        "plt.xlabel('Subject Number') #label x-axis\n",
        "plt.ylabel('z-score ')       #label y-axis\n",
        "plt.title('MCQ Z-SCORES')     #title for the plot"
      ],
      "metadata": {
        "id": "GwZ1wpqFu15t"
      },
      "execution_count": null,
      "outputs": []
    },
    {
      "cell_type": "markdown",
      "source": [
        "##Example 2: Correlation (introducing the dot product)\n",
        "\n",
        "https://realpython.com/numpy-scipy-pandas-correlation-python/\n",
        "\n",
        "The Pearson correleation (or $r$ value) represents the (co-)relatedness between 2 variables, and has a value between $-1$ and $1$ (negative and positive correlation respectively).\n",
        "An $r$ value at or around  $0$ means the variables are independent of each other.\n",
        "\n",
        "The $r-$value is related to the z-score, as $r$ can be computed via the \"dot product\" of the two sets of z-transformed data. The dot product of two (same size) data sets $V = (v_0, v_1, ..., v_{n-1}), W = (w_0, w_1, ..., w_{n-1})$ is the **sum of the products of the corresponding elements** of the two arrays. In maths, it is written with a dot like this: $V \\cdot W$. So the definition is,\n",
        "$\n",
        "V \\cdot W = \\sum_i v_iw_i\n",
        "$\n",
        ".\n",
        "\n",
        "Using this operation with the z-score function given above (denoted $z$), the correlation $r$ between two sets of data $D_1, D_2$ can be computed as\n",
        "\n",
        "$$\n",
        "r(D_1, D_2) = \\frac{z(D_1) \\cdot z(D_2)}{n}\n",
        "$$\n",
        "\n",
        "($n$ is the number of data points).\n",
        "\n",
        "NumPy uses the @ symbol, ie V @ W, for the dot product. So we can define a one-line function corr to compute the $r$-value:"
      ],
      "metadata": {
        "id": "qSNVIybpE8sh"
      }
    },
    {
      "cell_type": "markdown",
      "source": [
        "https://media.geeksforgeeks.org/wp-content/uploads/20190413155221/dotproduct.png"
      ],
      "metadata": {
        "id": "Fc3iO24BkDPd"
      }
    },
    {
      "cell_type": "code",
      "source": [
        "def corr(data1, data2):\n",
        "  \"\"\" the Pearson correlation (r value) of two sets of data,\n",
        "   using dot product of the z-scores \"\"\"\n",
        "  return (zscore(data1) @ zscore(data2)) / len(data1)\n",
        "\n",
        "#Some example data (you can change this to see the effect).\n",
        "#Make sure both arrays have the same length, otherwise you will get an error.\n",
        "D1 = np.array([2,4,6,8,10])\n",
        "D2 = np.array([25, 26, 30, 35, 32])\n",
        "\n",
        "#compute the correlation\n",
        "print('r =', corr(D1,D2))\n",
        "\n",
        "#check the result\n",
        "print('Checking result, using the Numpy corrcoef function')\n",
        "print(np.corrcoef(D1,D2))"
      ],
      "metadata": {
        "id": "GPf6pCYVeQdM"
      },
      "execution_count": null,
      "outputs": []
    },
    {
      "cell_type": "markdown",
      "source": [
        "##Example 3: Paired-samples t-value\n",
        "\n",
        "https://www.statology.org/paired-samples-t-test/\n",
        "\n",
        "In a paired-samples design all subjects are tested in both of two conditions, allowing each subject to be compared directly with themselves. Suppose the data from the two conditions are in arrays $C_1, C_2 $, such that the corresponding data points in each array are *from the same subject*. For the t-test, we get the difference between the two conditions for each subject by the elementwise subtraction of one array from the other,\n",
        "$$\n",
        "D = C_1 - C_2\n",
        "$$\n",
        "\n",
        "where $D$ stands for difference. The formula for the t-value test is then simply\n",
        "\n",
        "$$\n",
        "t = \\frac{mean(D)}{SE(D)}\n",
        "$$\n",
        "\n",
        "where $SE$ is the standard error, that is, the standard deviation ($SD$) divided by the square root of $n$; i.e.,\n",
        "\n",
        "$$\n",
        "SE(data) = \\frac{SD(data)}{\\sqrt n}\n",
        "$$\n",
        "\n",
        "\n",
        "Let's create a function SE for the standard error:\n"
      ],
      "metadata": {
        "id": "ef4V56b3JFQ3"
      }
    },
    {
      "cell_type": "code",
      "source": [
        "def SE(data):\n",
        "  \"\"\" Compute the (sample) standard error of a data set \"\"\"\n",
        "  return np.std(data, ddof = 1)/np.sqrt(len(data)) #the input \"ddof = 1\" is to\n",
        "                                                   #get the sample SD"
      ],
      "metadata": {
        "id": "P76UxFr-Olnl"
      },
      "execution_count": null,
      "outputs": []
    },
    {
      "cell_type": "markdown",
      "source": [
        "To calculate the t-value using arrays, we can subtract the elements of one array of data from the corresponding elements of another with just the minus sign:"
      ],
      "metadata": {
        "id": "g8SrKDYUO4jE"
      }
    },
    {
      "cell_type": "code",
      "source": [
        "def tvalue(C1, C2):\n",
        "  \"\"\" Calculate the t-value of difference of the means of\n",
        "   two conditions c1, C2 \"\"\"\n",
        "\n",
        "  #subtract each score in condition2, C2, from the corresponding score in C1\n",
        "  #using NumPy array subtraction; D is the array of differences\n",
        "  D = C1 - C2\n",
        "\n",
        "  #the t-value is the mean difference divided by the standard error of the\n",
        "  #differences\n",
        "  return np.mean(D)/SE(D)"
      ],
      "metadata": {
        "id": "K3XxZK77PecM"
      },
      "execution_count": null,
      "outputs": []
    },
    {
      "cell_type": "markdown",
      "source": [
        "To test whether a course improves their knowledge, students take a 30 question MCQ at the start and at the end of the course.  The code below contains the raw test scores for $n = 20$ students before (MCQ_pre) and after (MCQ_post) the course, and tests the differences between the means:"
      ],
      "metadata": {
        "id": "r6gth9_AaQXd"
      }
    },
    {
      "cell_type": "code",
      "source": [
        "# MCQ scores before taking the course\n",
        "MCQ_pre = np.array([18, 21, 16, 22, 19, 24, 17,21, 23, 18, 14, 16,16, 19,\n",
        "18,20 , 12 , 22, 15 , 17] )\n",
        "\n",
        "# MCQ scores after taking the course\n",
        "MCQ_post = np.array([22  ,25, 17, 24, 16, 29, 20, 23, 19, 20 , 15, 15 , 18, 26,\n",
        "18 , 24 , 18, 25 , 19 , 16])\n",
        "\n",
        "#Results\n",
        "#1. Means of the two conditions\n",
        "print('Mean score: pre-test =', np.mean(MCQ_pre))\n",
        "print('Mean score: post-test =', np.mean(MCQ_post))\n",
        "\n",
        "#2. the array of difference scores, using array subtraction\n",
        "diff = MCQ_post - MCQ_pre\n",
        "\n",
        "#3. the mean difference\n",
        "print('Mean score difference =', np.mean(diff))\n",
        "\n",
        "#4. Standard error of the differences\n",
        "print('SE of differences =', SE(diff))\n",
        "\n",
        "#5. the t-value\n",
        "print('t-value of difference =', tvalue(MCQ_post, MCQ_pre))\n",
        "\n",
        "# ---------------------------------------\n",
        "#Check result using the paired-samples ttest from the scipy.stats library\n",
        "print('\\n CHECKING THE RESULT WITH scipy.stats: Compare the t-values !')\n",
        "#import the ttest function\n",
        "from scipy.stats import ttest_rel as ttest\n",
        "#scipy ttest on the same data: returns both the t-value (t) and p-value (p)\n",
        "t, p = ttest(MCQ_post, MCQ_pre)\n",
        "print('t-value =', t, ': p-value =', p)\n"
      ],
      "metadata": {
        "id": "eMcIwYJRZ9WV"
      },
      "execution_count": null,
      "outputs": []
    },
    {
      "cell_type": "code",
      "source": [],
      "metadata": {
        "id": "SLpmZeAsQK46"
      },
      "execution_count": null,
      "outputs": []
    }
  ]
}